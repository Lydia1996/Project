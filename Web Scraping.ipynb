{
 "cells": [
  {
   "cell_type": "markdown",
   "metadata": {},
   "source": [
    "# Web Scraping Practice"
   ]
  },
  {
   "cell_type": "markdown",
   "metadata": {},
   "source": [
    "https://www.imdb.com/title/tt4574334/episodes?season=1\n",
    "\n",
    "需要的内容：Stanger Things第一季每一集的名字，评分，评分人数，首播日期还有剧集简介共5列，结果输出为excel文件"
   ]
  },
  {
   "cell_type": "code",
   "execution_count": 1,
   "metadata": {},
   "outputs": [],
   "source": [
    "import requests\n",
    "import bs4\n",
    "from bs4 import BeautifulSoup\n",
    "import selenium\n",
    "from selenium import webdriver\n",
    "import pandas as pd"
   ]
  },
  {
   "cell_type": "code",
   "execution_count": 2,
   "metadata": {},
   "outputs": [
    {
     "data": {
      "text/plain": [
       "<Response [200]>"
      ]
     },
     "execution_count": 2,
     "metadata": {},
     "output_type": "execute_result"
    }
   ],
   "source": [
    "r = requests.get(\"https://www.imdb.com/title/tt4574334/episodes?season=1\")"
   ]
  },
  {
   "cell_type": "code",
   "execution_count": 75,
   "metadata": {},
   "outputs": [],
   "source": [
    "page_html = r.text"
   ]
  },
  {
   "cell_type": "code",
   "execution_count": 76,
   "metadata": {},
   "outputs": [],
   "source": [
    "page_soup = BeautifulSoup(page_html, 'html.parser')"
   ]
  },
  {
   "cell_type": "code",
   "execution_count": 77,
   "metadata": {},
   "outputs": [],
   "source": [
    "episodes_odd = page_soup.find_all('div', attrs={'class':'list_item odd'})"
   ]
  },
  {
   "cell_type": "code",
   "execution_count": 78,
   "metadata": {},
   "outputs": [],
   "source": [
    "episodes_even = page_soup.find_all('div', attrs={'class':'list_item even'})"
   ]
  },
  {
   "cell_type": "code",
   "execution_count": 80,
   "metadata": {},
   "outputs": [],
   "source": [
    "eps = episodes_odd[0]"
   ]
  },
  {
   "cell_type": "code",
   "execution_count": 81,
   "metadata": {},
   "outputs": [],
   "source": [
    "name = eps.strong.string"
   ]
  },
  {
   "cell_type": "code",
   "execution_count": 82,
   "metadata": {},
   "outputs": [],
   "source": [
    "score = eps.find('span', attrs={'class':'ipl-rating-star__rating'}).string"
   ]
  },
  {
   "cell_type": "code",
   "execution_count": 85,
   "metadata": {},
   "outputs": [],
   "source": [
    "total_vote = eps.find('span', attrs={'class':'ipl-rating-star__total-votes'}).string[1:-1]"
   ]
  },
  {
   "cell_type": "code",
   "execution_count": 84,
   "metadata": {},
   "outputs": [],
   "source": [
    "airdate = eps.find('div', attrs={'class':'airdate'}).string"
   ]
  },
  {
   "cell_type": "code",
   "execution_count": 79,
   "metadata": {},
   "outputs": [],
   "source": [
    "summary = eps.find('div', attrs={'class':'item_description'}).string"
   ]
  },
  {
   "cell_type": "code",
   "execution_count": 68,
   "metadata": {},
   "outputs": [
    {
     "data": {
      "text/html": [
       "<div>\n",
       "<style scoped>\n",
       "    .dataframe tbody tr th:only-of-type {\n",
       "        vertical-align: middle;\n",
       "    }\n",
       "\n",
       "    .dataframe tbody tr th {\n",
       "        vertical-align: top;\n",
       "    }\n",
       "\n",
       "    .dataframe thead th {\n",
       "        text-align: right;\n",
       "    }\n",
       "</style>\n",
       "<table border=\"1\" class=\"dataframe\">\n",
       "  <thead>\n",
       "    <tr style=\"text-align: right;\">\n",
       "      <th></th>\n",
       "      <th>Episode Name</th>\n",
       "      <th>Score</th>\n",
       "      <th>Total Votes</th>\n",
       "      <th>Airdate</th>\n",
       "      <th>Description</th>\n",
       "    </tr>\n",
       "  </thead>\n",
       "  <tbody>\n",
       "    <tr>\n",
       "      <th>0</th>\n",
       "      <td>Chapter One: The Vanishing of Will Byers</td>\n",
       "      <td>8.6</td>\n",
       "      <td>19538</td>\n",
       "      <td>15 Jul. 2016</td>\n",
       "      <td>At the U.S. Dept. of Energy an unexplained eve...</td>\n",
       "    </tr>\n",
       "    <tr>\n",
       "      <th>1</th>\n",
       "      <td>Chapter Two: The Weirdo on Maple Street</td>\n",
       "      <td>8.5</td>\n",
       "      <td>17451</td>\n",
       "      <td>15 Jul. 2016</td>\n",
       "      <td>Mike hides the mysterious girl in his house. J...</td>\n",
       "    </tr>\n",
       "    <tr>\n",
       "      <th>2</th>\n",
       "      <td>Chapter Three: Holly, Jolly</td>\n",
       "      <td>8.9</td>\n",
       "      <td>17396</td>\n",
       "      <td>15 Jul. 2016</td>\n",
       "      <td>An increasingly concerned Nancy looks for Barb...</td>\n",
       "    </tr>\n",
       "    <tr>\n",
       "      <th>3</th>\n",
       "      <td>Chapter Four: The Body</td>\n",
       "      <td>9.0</td>\n",
       "      <td>17089</td>\n",
       "      <td>15 Jul. 2016</td>\n",
       "      <td>Refusing to believe Will is dead, Joyce tries ...</td>\n",
       "    </tr>\n",
       "    <tr>\n",
       "      <th>4</th>\n",
       "      <td>Chapter Five: The Flea and the Acrobat</td>\n",
       "      <td>8.8</td>\n",
       "      <td>16149</td>\n",
       "      <td>15 Jul. 2016</td>\n",
       "      <td>Hopper breaks into the lab to find the truth a...</td>\n",
       "    </tr>\n",
       "    <tr>\n",
       "      <th>5</th>\n",
       "      <td>Chapter Six: The Monster</td>\n",
       "      <td>8.9</td>\n",
       "      <td>16009</td>\n",
       "      <td>15 Jul. 2016</td>\n",
       "      <td>Hopper and Joyce find the truth about the lab'...</td>\n",
       "    </tr>\n",
       "    <tr>\n",
       "      <th>6</th>\n",
       "      <td>Chapter Seven: The Bathtub</td>\n",
       "      <td>9.1</td>\n",
       "      <td>16723</td>\n",
       "      <td>15 Jul. 2016</td>\n",
       "      <td>The government comes searching for Eleven. Ele...</td>\n",
       "    </tr>\n",
       "    <tr>\n",
       "      <th>7</th>\n",
       "      <td>Chapter Eight: The Upside Down</td>\n",
       "      <td>9.3</td>\n",
       "      <td>19693</td>\n",
       "      <td>15 Jul. 2016</td>\n",
       "      <td>Joyce and Hopper are taken in for questioning....</td>\n",
       "    </tr>\n",
       "  </tbody>\n",
       "</table>\n",
       "</div>"
      ],
      "text/plain": [
       "                               Episode Name Score Total Votes       Airdate  \\\n",
       "0  Chapter One: The Vanishing of Will Byers   8.6       19538  15 Jul. 2016   \n",
       "1   Chapter Two: The Weirdo on Maple Street   8.5       17451  15 Jul. 2016   \n",
       "2               Chapter Three: Holly, Jolly   8.9       17396  15 Jul. 2016   \n",
       "3                    Chapter Four: The Body   9.0       17089  15 Jul. 2016   \n",
       "4    Chapter Five: The Flea and the Acrobat   8.8       16149  15 Jul. 2016   \n",
       "5                  Chapter Six: The Monster   8.9       16009  15 Jul. 2016   \n",
       "6                Chapter Seven: The Bathtub   9.1       16723  15 Jul. 2016   \n",
       "7            Chapter Eight: The Upside Down   9.3       19693  15 Jul. 2016   \n",
       "\n",
       "                                         Description  \n",
       "0  At the U.S. Dept. of Energy an unexplained eve...  \n",
       "1  Mike hides the mysterious girl in his house. J...  \n",
       "2  An increasingly concerned Nancy looks for Barb...  \n",
       "3  Refusing to believe Will is dead, Joyce tries ...  \n",
       "4  Hopper breaks into the lab to find the truth a...  \n",
       "5  Hopper and Joyce find the truth about the lab'...  \n",
       "6  The government comes searching for Eleven. Ele...  \n",
       "7  Joyce and Hopper are taken in for questioning....  "
      ]
     },
     "execution_count": 68,
     "metadata": {},
     "output_type": "execute_result"
    }
   ],
   "source": [
    "# Get episode name, score, total vote, first produced date and description of Stranger Things Season 1\n",
    "data_list = []\n",
    "odd_list = []\n",
    "even_list = []\n",
    "for eps in episodes_odd:\n",
    "    name = eps.strong.string\n",
    "    score = eps.find('span', attrs={'class':'ipl-rating-star__rating'}).string\n",
    "    total_vote_ls = eps.find('span', attrs={'class':'ipl-rating-star__total-votes'}).string[1:-1].split(',')\n",
    "    total_vote = ''\n",
    "    for i in total_vote_ls:\n",
    "        total_vote += i\n",
    "    airdate = eps.find('div', attrs={'class':'airdate'}).string.strip()\n",
    "    summary = eps.find('div', attrs={'class':'item_description'}).string.strip()\n",
    "    odd_list.append([name,score,total_vote,airdate,summary])\n",
    "\n",
    "for eps in episodes_even:\n",
    "    name = eps.strong.string\n",
    "    score = eps.find('span', attrs={'class':'ipl-rating-star__rating'}).string\n",
    "    total_vote_ls = eps.find('span', attrs={'class':'ipl-rating-star__total-votes'}).string[1:-1].split(',')\n",
    "    total_vote = ''\n",
    "    for i in total_vote_ls:\n",
    "        total_vote += i\n",
    "    airdate = eps.find('div', attrs={'class':'airdate'}).string.strip()\n",
    "    summary = eps.find('div', attrs={'class':'item_description'}).string.strip()\n",
    "    even_list.append([name,score,total_vote,airdate,summary])\n",
    "\n",
    "idx = 0\n",
    "while odd_list != [] and even_list != []:\n",
    "    if idx%2 == 0:\n",
    "        data_list.append(odd_list[0])\n",
    "        odd_list = odd_list[1:]\n",
    "    else:\n",
    "        data_list.append(even_list[0])\n",
    "        even_list = even_list[1:]\n",
    "    idx += 1\n",
    "\n",
    "data_list = data_list+odd_list+even_list\n",
    "\n",
    "episodes_df = pd.DataFrame(data_list)\n",
    "episodes_df.columns = ['Episode Name','Score','Total Votes','Airdate','Description']\n",
    "episodes_df"
   ]
  },
  {
   "cell_type": "code",
   "execution_count": 71,
   "metadata": {},
   "outputs": [
    {
     "data": {
      "text/html": [
       "<div>\n",
       "<style scoped>\n",
       "    .dataframe tbody tr th:only-of-type {\n",
       "        vertical-align: middle;\n",
       "    }\n",
       "\n",
       "    .dataframe tbody tr th {\n",
       "        vertical-align: top;\n",
       "    }\n",
       "\n",
       "    .dataframe thead th {\n",
       "        text-align: right;\n",
       "    }\n",
       "</style>\n",
       "<table border=\"1\" class=\"dataframe\">\n",
       "  <thead>\n",
       "    <tr style=\"text-align: right;\">\n",
       "      <th></th>\n",
       "      <th>Episode Name</th>\n",
       "      <th>Score</th>\n",
       "      <th>Total Votes</th>\n",
       "      <th>Airdate</th>\n",
       "      <th>Description</th>\n",
       "    </tr>\n",
       "  </thead>\n",
       "  <tbody>\n",
       "    <tr>\n",
       "      <th>0</th>\n",
       "      <td>Chapter One: The Vanishing of Will Byers</td>\n",
       "      <td>8.6</td>\n",
       "      <td>19538</td>\n",
       "      <td>15 Jul. 2016</td>\n",
       "      <td>At the U.S. Dept. of Energy an unexplained eve...</td>\n",
       "    </tr>\n",
       "    <tr>\n",
       "      <th>1</th>\n",
       "      <td>Chapter Two: The Weirdo on Maple Street</td>\n",
       "      <td>8.5</td>\n",
       "      <td>17451</td>\n",
       "      <td>15 Jul. 2016</td>\n",
       "      <td>Mike hides the mysterious girl in his house. J...</td>\n",
       "    </tr>\n",
       "    <tr>\n",
       "      <th>2</th>\n",
       "      <td>Chapter Three: Holly, Jolly</td>\n",
       "      <td>8.9</td>\n",
       "      <td>17396</td>\n",
       "      <td>15 Jul. 2016</td>\n",
       "      <td>An increasingly concerned Nancy looks for Barb...</td>\n",
       "    </tr>\n",
       "    <tr>\n",
       "      <th>3</th>\n",
       "      <td>Chapter Four: The Body</td>\n",
       "      <td>9.0</td>\n",
       "      <td>17089</td>\n",
       "      <td>15 Jul. 2016</td>\n",
       "      <td>Refusing to believe Will is dead, Joyce tries ...</td>\n",
       "    </tr>\n",
       "    <tr>\n",
       "      <th>4</th>\n",
       "      <td>Chapter Five: The Flea and the Acrobat</td>\n",
       "      <td>8.8</td>\n",
       "      <td>16149</td>\n",
       "      <td>15 Jul. 2016</td>\n",
       "      <td>Hopper breaks into the lab to find the truth a...</td>\n",
       "    </tr>\n",
       "    <tr>\n",
       "      <th>5</th>\n",
       "      <td>Chapter Six: The Monster</td>\n",
       "      <td>8.9</td>\n",
       "      <td>16009</td>\n",
       "      <td>15 Jul. 2016</td>\n",
       "      <td>Hopper and Joyce find the truth about the lab'...</td>\n",
       "    </tr>\n",
       "    <tr>\n",
       "      <th>6</th>\n",
       "      <td>Chapter Seven: The Bathtub</td>\n",
       "      <td>9.1</td>\n",
       "      <td>16723</td>\n",
       "      <td>15 Jul. 2016</td>\n",
       "      <td>The government comes searching for Eleven. Ele...</td>\n",
       "    </tr>\n",
       "    <tr>\n",
       "      <th>7</th>\n",
       "      <td>Chapter Eight: The Upside Down</td>\n",
       "      <td>9.3</td>\n",
       "      <td>19693</td>\n",
       "      <td>15 Jul. 2016</td>\n",
       "      <td>Joyce and Hopper are taken in for questioning....</td>\n",
       "    </tr>\n",
       "  </tbody>\n",
       "</table>\n",
       "</div>"
      ],
      "text/plain": [
       "                               Episode Name Score  Total Votes       Airdate  \\\n",
       "0  Chapter One: The Vanishing of Will Byers   8.6        19538  15 Jul. 2016   \n",
       "1   Chapter Two: The Weirdo on Maple Street   8.5        17451  15 Jul. 2016   \n",
       "2               Chapter Three: Holly, Jolly   8.9        17396  15 Jul. 2016   \n",
       "3                    Chapter Four: The Body   9.0        17089  15 Jul. 2016   \n",
       "4    Chapter Five: The Flea and the Acrobat   8.8        16149  15 Jul. 2016   \n",
       "5                  Chapter Six: The Monster   8.9        16009  15 Jul. 2016   \n",
       "6                Chapter Seven: The Bathtub   9.1        16723  15 Jul. 2016   \n",
       "7            Chapter Eight: The Upside Down   9.3        19693  15 Jul. 2016   \n",
       "\n",
       "                                         Description  \n",
       "0  At the U.S. Dept. of Energy an unexplained eve...  \n",
       "1  Mike hides the mysterious girl in his house. J...  \n",
       "2  An increasingly concerned Nancy looks for Barb...  \n",
       "3  Refusing to believe Will is dead, Joyce tries ...  \n",
       "4  Hopper breaks into the lab to find the truth a...  \n",
       "5  Hopper and Joyce find the truth about the lab'...  \n",
       "6  The government comes searching for Eleven. Ele...  \n",
       "7  Joyce and Hopper are taken in for questioning....  "
      ]
     },
     "execution_count": 71,
     "metadata": {},
     "output_type": "execute_result"
    }
   ],
   "source": [
    "episodes_df['Total Votes']=pd.to_numeric(episodes_df['Total Votes'])\n",
    "episodes_df"
   ]
  },
  {
   "cell_type": "code",
   "execution_count": 74,
   "metadata": {},
   "outputs": [],
   "source": [
    "episodes_df.to_excel('./stringer_thing_s1.xlsx',index=False)"
   ]
  },
  {
   "cell_type": "markdown",
   "metadata": {},
   "source": [
    " "
   ]
  }
 ],
 "metadata": {
  "kernelspec": {
   "display_name": "Python 3",
   "language": "python",
   "name": "python3"
  },
  "language_info": {
   "codemirror_mode": {
    "name": "ipython",
    "version": 3
   },
   "file_extension": ".py",
   "mimetype": "text/x-python",
   "name": "python",
   "nbconvert_exporter": "python",
   "pygments_lexer": "ipython3",
   "version": "3.8.5"
  }
 },
 "nbformat": 4,
 "nbformat_minor": 2
}
